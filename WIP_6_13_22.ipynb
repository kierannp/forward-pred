{
 "cells": [
  {
   "cell_type": "code",
   "execution_count": null,
   "metadata": {},
   "outputs": [],
   "source": [
    "import torch\n",
    "import matplotlib.pyplot as plt\n",
    "import numpy as np"
   ]
  },
  {
   "cell_type": "markdown",
   "metadata": {},
   "source": [
    "# Get QM9 property prediction working"
   ]
  },
  {
   "cell_type": "code",
   "execution_count": 6,
   "metadata": {},
   "outputs": [],
   "source": [
    "import sys\n",
    "sys.path.insert(1, 'egnn/models/egnn_clean')\n",
    "import qm9\n",
    "from qm9 import dataset\n",
    "from easydict import EasyDict as edict\n",
    "\n",
    "args = edict({'batch_size':16, 'num_workers':2, 'dataset':'qm9', 'datadir':'/Users/kieran/forward-pred/qm9/data/qm9/qm9',\n",
    "            'filter_n_atoms':None, 'remove_h':True})\n",
    "dataloaders, charge_scale = dataset.retrieve_dataloaders(args)"
   ]
  },
  {
   "cell_type": "markdown",
   "metadata": {},
   "source": [
    "## Basic Example"
   ]
  },
  {
   "cell_type": "code",
   "execution_count": 2,
   "metadata": {},
   "outputs": [],
   "source": [
    "import egnn_clean as eg\n",
    "import torch\n",
    "\n",
    "# Dummy parameters\n",
    "batch_size = 8\n",
    "n_nodes = 4\n",
    "n_feat = 1\n",
    "x_dim = 3\n",
    "\n",
    "# Dummy variables h, x and fully connected edges\n",
    "h = torch.ones(batch_size * n_nodes, n_feat)\n",
    "x = torch.ones(batch_size * n_nodes, x_dim)\n",
    "edges, edge_attr = eg.get_edges_batch(n_nodes, batch_size)\n",
    "\n",
    "# Initialize EGNN\n",
    "egnn = eg.EGNN(in_node_nf=n_feat, hidden_nf=32, out_node_nf=1, in_edge_nf=1)\n",
    "\n",
    "# Run EGNN\n",
    "h, x = egnn(h, x, edges, edge_attr)"
   ]
  },
  {
   "cell_type": "code",
   "execution_count": null,
   "metadata": {},
   "outputs": [],
   "source": [
    "%run -u main_qm9.py --num_workers 2 --lr 5e-4 --property alpha --exp_name exp_1_alpha"
   ]
  }
 ],
 "metadata": {
  "interpreter": {
   "hash": "75045139ea58b4fb571e03dddc527b13688015b7207563deeac5a7900d487c59"
  },
  "kernelspec": {
   "display_name": "Python 3.8.13 ('forward')",
   "language": "python",
   "name": "python3"
  },
  "language_info": {
   "codemirror_mode": {
    "name": "ipython",
    "version": 3
   },
   "file_extension": ".py",
   "mimetype": "text/x-python",
   "name": "python",
   "nbconvert_exporter": "python",
   "pygments_lexer": "ipython3",
   "version": "3.8.13"
  },
  "orig_nbformat": 4
 },
 "nbformat": 4,
 "nbformat_minor": 2
}
